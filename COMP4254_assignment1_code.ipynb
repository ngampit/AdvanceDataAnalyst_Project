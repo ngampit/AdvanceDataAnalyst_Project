# -*- coding: utf-8 -*-
"""
CountDown Factorial

"""
"""
Write a function that takes in an integer value from the user, 
and prints the factorials of the numbers from this value all the way down 
to one on a separate line. 

"""

def factorial(n):

    fac = 1
    while n >=1 :
         fac = fac* n         
         n -= 1
         fac = fac                  
    return fac
    
factorial(5)

def print_fac(n):
    if n>= 1:
        while n>=1:
            print (factorial(n))
            n = n-1
        return
    else:
        print("Error!,Input need to be more than one")


def plus_fac(n):
     sum = 0
     l =len(str(factorial(n)))
     while l>= 1:
         print(str(factorial(n))) ## for test
         print(l)                 ## for test
         sum = sum + int(str(factorial(n))[l-1])
         l -= 1
         print (sum)              ## for test
     return sum
     

plus_fac(20)